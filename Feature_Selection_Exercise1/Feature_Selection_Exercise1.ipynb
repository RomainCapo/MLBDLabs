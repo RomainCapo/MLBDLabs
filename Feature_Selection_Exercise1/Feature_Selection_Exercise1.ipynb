{
 "cells": [
  {
   "cell_type": "markdown",
   "metadata": {},
   "source": [
    "# MLBD - \n",
    "\n",
    "## Lab - Feature Selection -\n",
    "\n",
    "\n",
    "\n",
    "\n",
    "## Exercise 1 - Noisy Iris -\n",
    "\n",
    "- Developed by _Gary Marigliano - July 2018_\n",
    "\n",
    "- Modified by _Shabnam Ataee - March 2020_\n",
    "\n",
    "## Assistant -\n",
    "Shabnam Ataee\n",
    "\n",
    "## Introduction -\n",
    "\n",
    "First, read _ReadMe_ notebook and install required packages for this lab.\n",
    "\n",
    "In this exercise, the [famous iris](https://en.wikipedia.org/wiki/Iris_flower_data_set) dataset has been modified to insert noisy features. The goal is to retrieve 4 original features (sepal length/width and petal length/width) using feature selection models.\n",
    "\n",
    "You can use some feature selection algorithms listed here (the python library should already be installed for this exercise): http://featureselection.asu.edu/html/skfeature.function.html and http://featureselection.asu.edu/tutorial.php\n",
    "\n",
    "## ToDo in this notebook -\n",
    "\n",
    "Answer to questions in this notebook where **_ToDo_** is written."
   ]
  },
  {
   "cell_type": "markdown",
   "metadata": {},
   "source": [
    "## Group members -\n",
    "\n",
    "As mentioned in the _ReadMe_ notebook, during this lab you will work in groups composed of 2 or 3 students. Please specify firstname, lastname and email address of group members here."
   ]
  },
  {
   "cell_type": "raw",
   "metadata": {
    "collapsed": true
   },
   "source": [
    "Romain Capocasale - romain.capocasale@master.hes-so.ch\n",
    "Vincent Moulin - vincent.moulin@master.hes-so.ch"
   ]
  },
  {
   "cell_type": "markdown",
   "metadata": {},
   "source": [
    "## Setup the Iris dataset -"
   ]
  },
  {
   "cell_type": "code",
   "execution_count": 1,
   "metadata": {},
   "outputs": [],
   "source": [
    "import numpy as np\n",
    "from matplotlib import pyplot as plt\n",
    "from sklearn.metrics import confusion_matrix, classification_report\n",
    "import itertools\n",
    "%matplotlib inline"
   ]
  },
  {
   "cell_type": "markdown",
   "metadata": {},
   "source": [
    "Below the dataset is modified to create new noisy features to the iris dataset."
   ]
  },
  {
   "cell_type": "code",
   "execution_count": 2,
   "metadata": {},
   "outputs": [
    {
     "name": "stdout",
     "output_type": "stream",
     "text": [
      "[[ 5.1         3.5         1.4         0.2        12.          2.50110744\n",
      "   2.83431141  1.99620069  3.63545336  5.1590246   4.30519787  6.06614607\n",
      "   0.47366071  6.52782521  1.75537141  5.00935383  4.26591765  5.78975435\n",
      "   5.91674724  3.52534988  7.58913472 -2.01429483]\n",
      " [ 4.9         3.          1.4         0.2        12.          2.00110744\n",
      "   2.33431141  1.49620069  3.13545336  4.6590246   3.80519787  5.56614607\n",
      "  -0.02633929  6.02782521  1.25537141  4.50935383  3.76591765  5.28975435\n",
      "   5.41674724  3.02534988  7.08913472 -2.51429483]\n",
      " [ 4.7         3.2         1.3         0.2        12.          2.20110744\n",
      "   2.53431141  1.69620069  3.33545336  4.8590246   4.00519787  5.76614607\n",
      "   0.17366071  6.22782521  1.45537141  4.70935383  3.96591765  5.48975435\n",
      "   5.61674724  3.22534988  7.28913472 -2.31429483]]\n"
     ]
    }
   ],
   "source": [
    "from sklearn import datasets\n",
    "\n",
    "iris = datasets.load_iris()\n",
    "\n",
    "X = iris.data\n",
    "y = iris.target\n",
    "\n",
    "## Add some noisy features in the iris dataset\n",
    "\n",
    "# Add a feature that is always equal to a constant independently of the output --> useless feature\n",
    "constant_features = np.array([[12 for _ in range(X.shape[0])]]).transpose()\n",
    "X = np.append(X, constant_features, axis=1)\n",
    "\n",
    "# Add random noisy features. \n",
    "# These features are created using the first feature values with a more or less important noise level\n",
    "noise_levels = np.arange(1, 6, 0.3)\n",
    "first_feat = X[:, 1]\n",
    "\n",
    "n_samples = X.shape[0]\n",
    "for k in noise_levels:\n",
    "    noise = k*(np.random.rand() * 2 - 1)\n",
    "    noisy_features = [noise + first_feat[x] for x in range(n_samples)]\n",
    "    noisy_features = np.array([noisy_features]).transpose()\n",
    "    X = np.append(X, noisy_features, axis=1)\n",
    "\n",
    "# Here we can see that the 5th column is always equals to 12. The colunms after it are the noisy features.\n",
    "print(X[:3, :])"
   ]
  },
  {
   "cell_type": "code",
   "execution_count": 3,
   "metadata": {},
   "outputs": [
    {
     "data": {
      "text/plain": [
       "(22,)"
      ]
     },
     "execution_count": 3,
     "metadata": {},
     "output_type": "execute_result"
    }
   ],
   "source": [
    "X[0].shape"
   ]
  },
  {
   "cell_type": "code",
   "execution_count": 4,
   "metadata": {},
   "outputs": [
    {
     "data": {
      "text/plain": [
       "(150, 22)"
      ]
     },
     "execution_count": 4,
     "metadata": {},
     "output_type": "execute_result"
    }
   ],
   "source": [
    "X.shape"
   ]
  },
  {
   "cell_type": "markdown",
   "metadata": {},
   "source": [
    "Next, we start selecting relevant features. To do that, we do \"Data Preparation\" phase of data science pipeline.\n",
    "\n",
    "This means we need to split the data into a train set (67%) and a test set (33%).\n"
   ]
  },
  {
   "cell_type": "code",
   "execution_count": 5,
   "metadata": {},
   "outputs": [],
   "source": [
    "from sklearn.model_selection import train_test_split\n",
    "\n",
    "X_train, X_test, y_train, y_test = train_test_split(X, y, test_size=0.33)"
   ]
  },
  {
   "cell_type": "markdown",
   "metadata": {},
   "source": [
    "For this notebook, the example below shows how to train and get the features sorted by decreasing importance."
   ]
  },
  {
   "cell_type": "code",
   "execution_count": 6,
   "metadata": {},
   "outputs": [
    {
     "name": "stdout",
     "output_type": "stream",
     "text": [
      "score 0.900\n"
     ]
    }
   ],
   "source": [
    "from sklearn.ensemble import ExtraTreesClassifier\n",
    "\n",
    "# train\n",
    "clf = ExtraTreesClassifier(n_jobs=2, n_estimators=10)\n",
    "clf.fit(X_train, y_train)\n",
    "\n",
    "# get the score\n",
    "score = clf.score(X_test, y_test)\n",
    "print(\"score {:.3f}\".format(score))\n",
    "\n",
    "# rank the features\n",
    "importances = clf.feature_importances_\n",
    "\n",
    "indices = np.argsort(importances)[::-1]\n",
    "\n",
    "n_features = X_train.shape[1]\n",
    "\n",
    "# get the features sorted by decreasing importance\n",
    "feat_importances_sorted = [(indices[f], importances[indices[f]]) for f in range(n_features)]"
   ]
  },
  {
   "cell_type": "markdown",
   "metadata": {},
   "source": [
    "**_ToDo_**: \n",
    "* Draw feature importance plot using a bar chart (see picture below)\n",
    "* Answer the following questions:\n",
    "   * What does this plot represent?\n",
    "       * **Each score for a feature represents the importance of that feature in relation to the prediction of the response variable.**\n",
    "   * How do you compare two features using this plot?\n",
    "       * **You can compare two features by comparing the height of the bar.**\n",
    "   * How would you choose a \"good\" number of features?\n",
    "       * **You have to choose enough features to keep as much importance as possible (in our example it could be 4).**\n",
    "   * How can you be sure that the features you have been selected are relevant? What kind of tasks should you do ?\n",
    "       * **with feature selector model we can plot a bar plot to see how feature influence the response variable**\n",
    "   * How could you prove it?\n",
    "   * For this modified dataset, is it really useful to reduce the number of features?\n",
    "       * **No in this case inputs are quite small (22) and it is quite reasonable to train a model with 22 features. However, in a problem with lot of dimensions, reducing the dimensions can be useful.**\n",
    "   * How easy/hard is it to retrieve the original features?\n",
    "       * **Using Features selector model is quite easy to retrived the original feature of the iris dataset**"
   ]
  },
  {
   "cell_type": "markdown",
   "metadata": {},
   "source": [
    "<img src=\"pictures/01-noisy-iris-feat-importances-example.png\" />"
   ]
  },
  {
   "cell_type": "code",
   "execution_count": 35,
   "metadata": {},
   "outputs": [
    {
     "data": {
      "text/plain": [
       "Text(0.5, 1.0, 'Score per feature')"
      ]
     },
     "execution_count": 35,
     "metadata": {},
     "output_type": "execute_result"
    },
    {
     "data": {
      "image/png": "[encoded data removed]",
      "text/plain": [
       "<Figure size 1008x432 with 1 Axes>"
      ]
     },
     "metadata": {
      "needs_background": "light"
     },
     "output_type": "display_data"
    }
   ],
   "source": [
    "fig, ax = plt.subplots(figsize=(14,6))\n",
    "ax_features, ax_importances = zip(*feat_importances_sorted)\n",
    "ax_features = [str(i) for i in ax_features]\n",
    "ax.bar(ax_features, ax_importances)\n",
    "ax.set_xlabel('Features')\n",
    "ax.set_ylabel('Score')\n",
    "ax.set_title('Score per feature', fontsize=18)"
   ]
  },
  {
   "cell_type": "markdown",
   "metadata": {},
   "source": [
    "## Choose the best _n_ features -\n",
    "\n",
    "Now that we have the features sorted by decreasing importances, your task is to choose the best ones."
   ]
  },
  {
   "cell_type": "code",
   "execution_count": 8,
   "metadata": {},
   "outputs": [],
   "source": [
    "# This function plots the confusion matrix.\n",
    "# You can use this function to plot confusion matrix.\n",
    "\n",
    "def plot_confusion_matrix(cm, classes, title, cmap=plt.cm.Blues):\n",
    "\n",
    "    plt.imshow(cm, interpolation='nearest', cmap=cmap)\n",
    "    plt.title(title)\n",
    "    plt.colorbar(fraction=0.046, pad=0.04)\n",
    "    tick_marks = np.arange(len(classes))\n",
    "    plt.xticks(tick_marks, classes, rotation=45)\n",
    "    plt.yticks(tick_marks, classes)\n",
    "\n",
    "    thresh = cm.max() / 2.\n",
    "    for i, j in itertools.product(range(cm.shape[0]), range(cm.shape[1])):\n",
    "        plt.text(j, i, cm[i, j],\n",
    "                 horizontalalignment=\"center\",\n",
    "                 color=\"white\" if cm[i, j] > thresh else \"black\")\n",
    "\n",
    "    plt.ylabel('True label')\n",
    "    plt.xlabel('Predicted label')"
   ]
  },
  {
   "cell_type": "markdown",
   "metadata": {},
   "source": [
    "**_ToDo_**:\n",
    "\n",
    "* Choose _n_ features that you find relevant.\n",
    "    * **We choose to select 3 features (0, 2 and 3)**\n",
    "* Justify the number _n_ that you have chosen.\n",
    "    * **We choose these features beacause they allow to keep the most importance.**\n",
    "* Select confusion matrix or another relevant score metric and compare the classifier performance between:\n",
    "    * your selected features and the noisy iris dataset \n",
    "        * **We notice a slightly better improvement between the noisy dataset and the model with choosen features. Howerver, we notice scores can differ between different trainings.** \n",
    "    * your selected features and some _n_ random features (take the average score of K runs for random features)\n",
    "        * **With combinatorial search, we can see worst performance compare to model with selected features.**\n",
    "    * your selected features and the worst _n_ features (look at your feature importance plot)\n",
    "        * **In this case we constat this new model is decreasing in performance comparing to the model with the selected features**\n",
    "* Answer the following questions:\n",
    "    * Among the features you have selected, how many are the original ones?\n",
    "        * **The 3 selected features are the same as the original one.**\n",
    "    * Among the features you have selected, is there any useless feature (the one which always contains the same value)?\n",
    "        * **No, the only features with same value is the fourth features but she is not selected.**\n",
    "        \n",
    "To plot a prettier confusion matrix you can use the follwoing code:\n",
    "\n",
    "``` python\n",
    "y_pred = clf.predict(X_test_random)\n",
    "cm = confusion_matrix(y_test, y_pred)\n",
    "n_classes = len(np.unique(y))\n",
    "plot_confusion_matrix(cm, classes=range(n_classes), title=\"Confusion Matrix\")\n",
    "```"
   ]
  },
  {
   "cell_type": "code",
   "execution_count": 9,
   "metadata": {},
   "outputs": [],
   "source": [
    "n = 3"
   ]
  },
  {
   "cell_type": "markdown",
   "metadata": {},
   "source": [
    "## Original features"
   ]
  },
  {
   "cell_type": "code",
   "execution_count": 10,
   "metadata": {},
   "outputs": [
    {
     "name": "stdout",
     "output_type": "stream",
     "text": [
      "              precision    recall  f1-score   support\n",
      "\n",
      "           0       1.00      1.00      1.00        16\n",
      "           1       0.89      0.85      0.87        20\n",
      "           2       0.80      0.86      0.83        14\n",
      "\n",
      "    accuracy                           0.90        50\n",
      "   macro avg       0.90      0.90      0.90        50\n",
      "weighted avg       0.90      0.90      0.90        50\n",
      "\n"
     ]
    },
    {
     "data": {
      "image/png": "[encoded data removed]",
      "text/plain": [
       "<Figure size 432x288 with 2 Axes>"
      ]
     },
     "metadata": {
      "needs_background": "light"
     },
     "output_type": "display_data"
    }
   ],
   "source": [
    "y_pred = clf.predict(X_test)\n",
    "cm = confusion_matrix(y_test, y_pred)\n",
    "n_classes = len(np.unique(y))\n",
    "plot_confusion_matrix(cm, classes=range(n_classes), title=\"Confusion Matrix\")\n",
    "\n",
    "print(classification_report(y_test, y_pred))"
   ]
  },
  {
   "cell_type": "markdown",
   "metadata": {},
   "source": [
    "## Selected features"
   ]
  },
  {
   "cell_type": "code",
   "execution_count": 11,
   "metadata": {},
   "outputs": [],
   "source": [
    "best_features, _ = zip(*feat_importances_sorted[:n])"
   ]
  },
  {
   "cell_type": "code",
   "execution_count": 34,
   "metadata": {},
   "outputs": [
    {
     "name": "stdout",
     "output_type": "stream",
     "text": [
      "              precision    recall  f1-score   support\n",
      "\n",
      "           0       1.00      1.00      1.00        19\n",
      "           1       0.84      1.00      0.91        16\n",
      "           2       1.00      0.80      0.89        15\n",
      "\n",
      "    accuracy                           0.94        50\n",
      "   macro avg       0.95      0.93      0.93        50\n",
      "weighted avg       0.95      0.94      0.94        50\n",
      "\n",
      "Selected features scores : 0.94\n"
     ]
    },
    {
     "data": {
      "image/png": "[encoded data removed]",
      "text/plain": [
       "<Figure size 432x288 with 2 Axes>"
      ]
     },
     "metadata": {
      "needs_background": "light"
     },
     "output_type": "display_data"
    }
   ],
   "source": [
    "X_reduced = X[:,best_features]\n",
    "\n",
    "X_train_selected_features, X_test_selected_features, y_train, y_test = train_test_split(X_reduced, y, test_size=0.33)\n",
    "\n",
    "clf_selected_features = ExtraTreesClassifier(n_jobs=2, n_estimators=10)\n",
    "clf_selected_features.fit(X_train_selected_features, y_train)\n",
    "\n",
    "y_pred_selected_features = clf_selected_features.predict(X_test_selected_features)\n",
    "cm = confusion_matrix(y_test, y_pred_selected_features)\n",
    "n_classes = len(np.unique(y))\n",
    "plot_confusion_matrix(cm, classes=range(n_classes), title=\"Confusion Matrix\")\n",
    "\n",
    "print(classification_report(y_test, y_pred_selected_features))\n",
    "\n",
    "selected_features_score = clf_selected_features.score(X_test_selected_features, y_test) \n",
    "print(f\"Selected features scores : {selected_features_score}\")"
   ]
  },
  {
   "cell_type": "markdown",
   "metadata": {},
   "source": [
    "## Random features (Combinatorial search)"
   ]
  },
  {
   "cell_type": "code",
   "execution_count": 13,
   "metadata": {},
   "outputs": [],
   "source": [
    "features = list(range(0,22))\n",
    "from random import sample"
   ]
  },
  {
   "cell_type": "code",
   "execution_count": 28,
   "metadata": {},
   "outputs": [],
   "source": [
    "from sklearn.metrics import accuracy_score, f1_score"
   ]
  },
  {
   "cell_type": "code",
   "execution_count": 29,
   "metadata": {},
   "outputs": [],
   "source": [
    "K = 10\n",
    "mean_score = []\n",
    "\n",
    "for i in range(K):\n",
    "    random_features = sample(features, n)\n",
    "    \n",
    "    X_random = X[:,random_features]\n",
    "    X_train_random, X_test_random, y_train, y_test = train_test_split(X_random, y, test_size=0.33)\n",
    "\n",
    "    clf_random = ExtraTreesClassifier(n_jobs=2, n_estimators=10)\n",
    "    clf_random.fit(X_train_random, y_train)    \n",
    "    \n",
    "    score = clf_random.score(X_test_random, y_test)\n",
    "    mean_score.append(score)"
   ]
  },
  {
   "cell_type": "code",
   "execution_count": 32,
   "metadata": {},
   "outputs": [
    {
     "name": "stdout",
     "output_type": "stream",
     "text": [
      "Mean score : 0.546\n"
     ]
    }
   ],
   "source": [
    "print(f\"Mean score : {sum(mean_score)/ len(mean_score)}\")"
   ]
  },
  {
   "cell_type": "markdown",
   "metadata": {},
   "source": [
    "## Worst Features"
   ]
  },
  {
   "cell_type": "code",
   "execution_count": 19,
   "metadata": {},
   "outputs": [],
   "source": [
    "worst_features, _ = zip(*feat_importances_sorted[-n:])"
   ]
  },
  {
   "cell_type": "code",
   "execution_count": 20,
   "metadata": {},
   "outputs": [],
   "source": [
    "X_worst = X[:, worst_features]"
   ]
  },
  {
   "cell_type": "code",
   "execution_count": 21,
   "metadata": {},
   "outputs": [
    {
     "name": "stdout",
     "output_type": "stream",
     "text": [
      "              precision    recall  f1-score   support\n",
      "\n",
      "           0       0.29      0.31      0.30        13\n",
      "           1       0.38      0.42      0.40        19\n",
      "           2       0.47      0.39      0.42        18\n",
      "\n",
      "    accuracy                           0.38        50\n",
      "   macro avg       0.38      0.37      0.37        50\n",
      "weighted avg       0.39      0.38      0.38        50\n",
      "\n"
     ]
    },
    {
     "data": {
      "image/png": "[encoded data removed]",
      "text/plain": [
       "<Figure size 432x288 with 2 Axes>"
      ]
     },
     "metadata": {
      "needs_background": "light"
     },
     "output_type": "display_data"
    }
   ],
   "source": [
    "X_train_worst, X_test_worst, y_train, y_test = train_test_split(X_worst, y, test_size=0.33)\n",
    "\n",
    "clf_selected_features = ExtraTreesClassifier(n_jobs=2, n_estimators=10)\n",
    "clf_selected_features.fit(X_train_worst, y_train)\n",
    "\n",
    "y_pred_worst = clf_selected_features.predict(X_test_worst)\n",
    "cm = confusion_matrix(y_test, y_pred_worst)\n",
    "n_classes = len(np.unique(y))\n",
    "plot_confusion_matrix(cm, classes=range(n_classes), title=\"Confusion Matrix\")\n",
    "\n",
    "print(classification_report(y_test, y_pred_selected_features))"
   ]
  },
  {
   "cell_type": "markdown",
   "metadata": {},
   "source": [
    "### Going further (optional) -\n",
    "\n",
    "Now that you finished this notebook, it can be interesting to go one step further and try following scenarios:\n",
    "\n",
    "* Can we achieve better results (i.e. more relevant features and/or less features) if we normalize the data set?\n",
    "* Can we retrieve the same relevant features by applying another feature selection model?\n",
    "* Plot the classifier performance for the best K features where K is $1, 2,..,k_{-1},k$ and comment the results.\n",
    "* ...\n",
    "\n",
    "Please answer to the above questions below in this notebook."
   ]
  },
  {
   "cell_type": "code",
   "execution_count": null,
   "metadata": {},
   "outputs": [],
   "source": []
  }
 ],
 "metadata": {
  "kernelspec": {
   "display_name": "Python 3",
   "language": "python",
   "name": "python3"
  },
  "language_info": {
   "codemirror_mode": {
    "name": "ipython",
    "version": 3
   },
   "file_extension": ".py",
   "mimetype": "text/x-python",
   "name": "python",
   "nbconvert_exporter": "python",
   "pygments_lexer": "ipython3",
   "version": "3.8.5"
  }
 },
 "nbformat": 4,
 "nbformat_minor": 2
}
