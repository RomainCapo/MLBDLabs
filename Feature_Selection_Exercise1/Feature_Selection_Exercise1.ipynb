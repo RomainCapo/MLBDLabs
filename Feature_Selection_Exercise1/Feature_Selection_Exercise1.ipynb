{
 "cells": [
  {
   "cell_type": "markdown",
   "metadata": {},
   "source": [
    "# MLBD - \n",
    "\n",
    "## Lab - Feature Selection -\n",
    "\n",
    "\n",
    "\n",
    "\n",
    "## Exercise 1 - Noisy Iris -\n",
    "\n",
    "- Developed by _Gary Marigliano - July 2018_\n",
    "\n",
    "- Modified by _Shabnam Ataee - March 2020_\n",
    "\n",
    "## Assistant -\n",
    "Shabnam Ataee\n",
    "\n",
    "## Introduction -\n",
    "\n",
    "First, read _ReadMe_ notebook and install required packages for this lab.\n",
    "\n",
    "In this exercise, the [famous iris](https://en.wikipedia.org/wiki/Iris_flower_data_set) dataset has been modified to insert noisy features. The goal is to retrieve 4 original features (sepal length/width and petal length/width) using feature selection models.\n",
    "\n",
    "You can use some feature selection algorithms listed here (the python library should already be installed for this exercise): http://featureselection.asu.edu/html/skfeature.function.html and http://featureselection.asu.edu/tutorial.php\n",
    "\n",
    "## ToDo in this notebook -\n",
    "\n",
    "Answer to questions in this notebook where **_ToDo_** is written."
   ]
  },
  {
   "cell_type": "markdown",
   "metadata": {},
   "source": [
    "## Group members -\n",
    "\n",
    "As mentioned in the _ReadMe_ notebook, during this lab you will work in groups composed of 2 or 3 students. Please specify firstname, lastname and email address of group members here."
   ]
  },
  {
   "cell_type": "raw",
   "metadata": {
    "collapsed": true
   },
   "source": [
    "Romain Capocasale - romain.capocasale@master.hes-so.ch\n",
    "Vincent Moulin - vincent.moulin@master.hes-so.ch"
   ]
  },
  {
   "cell_type": "markdown",
   "metadata": {},
   "source": [
    "## Setup the Iris dataset -"
   ]
  },
  {
   "cell_type": "code",
   "execution_count": 149,
   "metadata": {},
   "outputs": [],
   "source": [
    "import numpy as np\n",
    "from matplotlib import pyplot as plt\n",
    "from sklearn.metrics import confusion_matrix, classification_report\n",
    "import itertools\n",
    "from random import sample\n",
    "%matplotlib inline"
   ]
  },
  {
   "cell_type": "markdown",
   "metadata": {},
   "source": [
    "Below the dataset is modified to create new noisy features to the iris dataset."
   ]
  },
  {
   "cell_type": "code",
   "execution_count": 150,
   "metadata": {},
   "outputs": [
    {
     "name": "stdout",
     "output_type": "stream",
     "text": [
      "[[ 5.1         3.5         1.4         0.2        12.          4.34802852\n",
      "   2.8600992   3.91608014  4.49603499  5.39962137  4.47884656  1.33240547\n",
      "   1.07217355  3.48223835  6.73629982  5.35521863  3.95338756  6.21411131\n",
      "   7.69780202  6.79750185  1.78837672  7.36018076]\n",
      " [ 4.9         3.          1.4         0.2        12.          3.84802852\n",
      "   2.3600992   3.41608014  3.99603499  4.89962137  3.97884656  0.83240547\n",
      "   0.57217355  2.98223835  6.23629982  4.85521863  3.45338756  5.71411131\n",
      "   7.19780202  6.29750185  1.28837672  6.86018076]\n",
      " [ 4.7         3.2         1.3         0.2        12.          4.04802852\n",
      "   2.5600992   3.61608014  4.19603499  5.09962137  4.17884656  1.03240547\n",
      "   0.77217355  3.18223835  6.43629982  5.05521863  3.65338756  5.91411131\n",
      "   7.39780202  6.49750185  1.48837672  7.06018076]]\n"
     ]
    }
   ],
   "source": [
    "from sklearn import datasets\n",
    "\n",
    "iris = datasets.load_iris()\n",
    "\n",
    "X = iris.data\n",
    "y = iris.target\n",
    "\n",
    "## Add some noisy features in the iris dataset\n",
    "\n",
    "# Add a feature that is always equal to a constant independently of the output --> useless feature\n",
    "constant_features = np.array([[12 for _ in range(X.shape[0])]]).transpose()\n",
    "X = np.append(X, constant_features, axis=1)\n",
    "\n",
    "# Add random noisy features. \n",
    "# These features are created using the first feature values with a more or less important noise level\n",
    "noise_levels = np.arange(1, 6, 0.3)\n",
    "first_feat = X[:, 1]\n",
    "\n",
    "n_samples = X.shape[0]\n",
    "for k in noise_levels:\n",
    "    noise = k*(np.random.rand() * 2 - 1)\n",
    "    noisy_features = [noise + first_feat[x] for x in range(n_samples)]\n",
    "    noisy_features = np.array([noisy_features]).transpose()\n",
    "    X = np.append(X, noisy_features, axis=1)\n",
    "\n",
    "# Here we can see that the 5th column is always equals to 12. The colunms after it are the noisy features.\n",
    "print(X[:3, :])"
   ]
  },
  {
   "cell_type": "code",
   "execution_count": 151,
   "metadata": {},
   "outputs": [
    {
     "data": {
      "text/plain": [
       "(150, 22)"
      ]
     },
     "execution_count": 151,
     "metadata": {},
     "output_type": "execute_result"
    }
   ],
   "source": [
    "X.shape"
   ]
  },
  {
   "cell_type": "markdown",
   "metadata": {},
   "source": [
    "Next, we start selecting relevant features. To do that, we do \"Data Preparation\" phase of data science pipeline.\n",
    "\n",
    "This means we need to split the data into a train set (67%) and a test set (33%).\n"
   ]
  },
  {
   "cell_type": "code",
   "execution_count": 152,
   "metadata": {},
   "outputs": [],
   "source": [
    "from sklearn.model_selection import train_test_split\n",
    "\n",
    "X_train, X_test, y_train, y_test = train_test_split(X, y, test_size=0.33)"
   ]
  },
  {
   "cell_type": "markdown",
   "metadata": {},
   "source": [
    "For this notebook, the example below shows how to train and get the features sorted by decreasing importance."
   ]
  },
  {
   "cell_type": "code",
   "execution_count": 153,
   "metadata": {},
   "outputs": [
    {
     "name": "stdout",
     "output_type": "stream",
     "text": [
      "score 0.860\n"
     ]
    }
   ],
   "source": [
    "from sklearn.ensemble import ExtraTreesClassifier\n",
    "\n",
    "# train\n",
    "clf = ExtraTreesClassifier(n_jobs=2, n_estimators=10)\n",
    "clf.fit(X_train, y_train)\n",
    "\n",
    "# get the score\n",
    "score = clf.score(X_test, y_test)\n",
    "print(\"score {:.3f}\".format(score))\n",
    "\n",
    "# rank the features\n",
    "importances = clf.feature_importances_\n",
    "\n",
    "indices = np.argsort(importances)[::-1]\n",
    "\n",
    "n_features = X_train.shape[1]\n",
    "\n",
    "# get the features sorted by decreasing importance\n",
    "feat_importances_sorted = [(indices[f], importances[indices[f]]) for f in range(n_features)]"
   ]
  },
  {
   "cell_type": "markdown",
   "metadata": {},
   "source": [
    "**_ToDo_**: \n",
    "* Draw feature importance plot using a bar chart (see picture below)\n",
    "* Answer the following questions:\n",
    "   * What does this plot represent?\n",
    "       * **Each score for a feature represents the importance of that feature in relation to the prediction of the response variable.**\n",
    "   * How do you compare two features using this plot?\n",
    "       * **You can compare two features by comparing the height of the bar.**\n",
    "   * How would you choose a \"good\" number of features?\n",
    "       * **You have to choose enough features to keep as much importance as possible, while keeping as few as possible (in our example it could be 3 or 4).**\n",
    "   * How can you be sure that the features you have been selected are relevant? What kind of tasks should you do ?\n",
    "       * **We can look at the score of the features and select the ones with the highest score (in this case with the importance or another value for another algorithm).**\n",
    "       * **With feature selector model we can plot a bar plot to see how feature influence the response variable**\n",
    "   * How could you prove it?\n",
    "       * **We can reconstruct the original data trying to lose as little information as possible during the reconstruction.**\n",
    "   * For this modified dataset, is it really useful to reduce the number of features?\n",
    "       * **Yes because in our case only 4 features are important, the other features are only noise and do not provide any information.**\n",
    "   * How easy/hard is it to retrieve the original features?\n",
    "       * **We can see in our case that the algorithm has easily found 3 of the 4 basic features. One of the features was not considered as important enough.**"
   ]
  },
  {
   "cell_type": "markdown",
   "metadata": {},
   "source": [
    "<img src=\"pictures/01-noisy-iris-feat-importances-example.png\" />"
   ]
  },
  {
   "cell_type": "markdown",
   "metadata": {},
   "source": [
    "## Bart chart for score per feature"
   ]
  },
  {
   "cell_type": "code",
   "execution_count": 154,
   "metadata": {},
   "outputs": [],
   "source": [
    "def plot_importance_bar_chart(feat_importances_sorted, title='Score per feature'):\n",
    "    fig, ax = plt.subplots(figsize=(14,6))\n",
    "\n",
    "    # Allows to create a list with the first elements of each tuple (feature number) and a second one with the second elements of each tuple (importance).\n",
    "    sorted_features, sorted_importances = zip(*feat_importances_sorted) \n",
    "\n",
    "    # Transform feature name as string (for plot)\n",
    "    ax_features = [str(i) for i in sorted_features] \n",
    "\n",
    "    ax.bar(ax_features, sorted_importances)\n",
    "    ax.set_xlabel('Features')\n",
    "    ax.set_ylabel('Score')\n",
    "    ax.set_title(title, fontsize=22)"
   ]
  },
  {
   "cell_type": "code",
   "execution_count": 155,
   "metadata": {},
   "outputs": [
    {
     "data": {
      "image/png": "[encoded data removed]",
      "text/plain": [
       "<Figure size 1008x432 with 1 Axes>"
      ]
     },
     "metadata": {
      "needs_background": "light"
     },
     "output_type": "display_data"
    }
   ],
   "source": [
    "plot_importance_bar_chart(feat_importances_sorted)"
   ]
  },
  {
   "cell_type": "markdown",
   "metadata": {},
   "source": [
    "## Choose the best _n_ features -\n",
    "\n",
    "Now that we have the features sorted by decreasing importances, your task is to choose the best ones."
   ]
  },
  {
   "cell_type": "code",
   "execution_count": 93,
   "metadata": {},
   "outputs": [],
   "source": [
    "# This function plots the confusion matrix.\n",
    "# You can use this function to plot confusion matrix.\n",
    "\n",
    "def plot_confusion_matrix(cm, classes, title, cmap=plt.cm.Blues):\n",
    "\n",
    "    plt.imshow(cm, interpolation='nearest', cmap=cmap)\n",
    "    plt.title(title)\n",
    "    plt.colorbar(fraction=0.046, pad=0.04)\n",
    "    tick_marks = np.arange(len(classes))\n",
    "    plt.xticks(tick_marks, classes, rotation=45)\n",
    "    plt.yticks(tick_marks, classes)\n",
    "\n",
    "    thresh = cm.max() / 2.\n",
    "    for i, j in itertools.product(range(cm.shape[0]), range(cm.shape[1])):\n",
    "        plt.text(j, i, cm[i, j],\n",
    "                 horizontalalignment=\"center\",\n",
    "                 color=\"white\" if cm[i, j] > thresh else \"black\")\n",
    "\n",
    "    plt.ylabel('True label')\n",
    "    plt.xlabel('Predicted label')"
   ]
  },
  {
   "cell_type": "markdown",
   "metadata": {},
   "source": [
    "**_ToDo_**:\n",
    "\n",
    "* Choose _n_ features that you find relevant.\n",
    "    * **We choose to select 3 features (2,3 and 0)**\n",
    "* Justify the number _n_ that you have chosen.\n",
    "    * **We choose these features beacause they allow to keep the most importance. These are the 3 most important features.**\n",
    "* Select confusion matrix or another relevant score metric and compare the classifier performance between:\n",
    "    * your selected features and the noisy iris dataset \n",
    "        * **We notice a slightly better improvement between the noisy dataset and the model with choosen features. Howerver, we notice scores can differ between different trainings.** \n",
    "    * your selected features and some _n_ random features (take the average score of K runs for random features)\n",
    "        * **With combinatorial search, we can see worst performance compare to model with selected features.**\n",
    "    * your selected features and the worst _n_ features (look at your feature importance plot)\n",
    "        * **In this case we constat this new model is decreasing in performance comparing to the model with the selected features**\n",
    "* Answer the following questions:\n",
    "    * Among the features you have selected, how many are the original ones?\n",
    "        * **We have selected 3 features out of the 4 original ones.**\n",
    "    * Among the features you have selected, is there any useless feature (the one which always contains the same value)?\n",
    "        * **No, the only features with same value is the fourth features but she is not selected.**\n",
    "        \n",
    "To plot a prettier confusion matrix you can use the follwoing code:\n",
    "\n",
    "``` python\n",
    "y_pred = clf.predict(X_test_random)\n",
    "cm = confusion_matrix(y_test, y_pred)\n",
    "n_classes = len(np.unique(y))\n",
    "plot_confusion_matrix(cm, classes=range(n_classes), title=\"Confusion Matrix\")\n",
    "```"
   ]
  },
  {
   "cell_type": "markdown",
   "metadata": {},
   "source": [
    "## Number of choosen features"
   ]
  },
  {
   "cell_type": "code",
   "execution_count": 94,
   "metadata": {},
   "outputs": [],
   "source": [
    "n = 3"
   ]
  },
  {
   "cell_type": "markdown",
   "metadata": {},
   "source": [
    "## Original features (noisy data)\n",
    "The classifier with the noisy data has already been trained in a above cell. Here we only make predictions to calculate the different metrics."
   ]
  },
  {
   "cell_type": "code",
   "execution_count": 95,
   "metadata": {},
   "outputs": [
    {
     "name": "stdout",
     "output_type": "stream",
     "text": [
      "              precision    recall  f1-score   support\n",
      "\n",
      "           0       1.00      0.89      0.94        19\n",
      "           1       0.80      0.80      0.80        15\n",
      "           2       0.83      0.94      0.88        16\n",
      "\n",
      "    accuracy                           0.88        50\n",
      "   macro avg       0.88      0.88      0.88        50\n",
      "weighted avg       0.89      0.88      0.88        50\n",
      "\n"
     ]
    },
    {
     "data": {
      "image/png": "[encoded data removed]",
      "text/plain": [
       "<Figure size 432x288 with 2 Axes>"
      ]
     },
     "metadata": {
      "needs_background": "light"
     },
     "output_type": "display_data"
    }
   ],
   "source": [
    "y_pred = clf.predict(X_test)\n",
    "cm = confusion_matrix(y_test, y_pred)\n",
    "n_classes = len(np.unique(y))\n",
    "plot_confusion_matrix(cm, classes=range(n_classes), title=\"Confusion Matrix\")\n",
    "\n",
    "print(classification_report(y_test, y_pred))"
   ]
  },
  {
   "cell_type": "markdown",
   "metadata": {},
   "source": [
    "## Selected features (2, 3 and 0)"
   ]
  },
  {
   "cell_type": "code",
   "execution_count": 96,
   "metadata": {},
   "outputs": [],
   "source": [
    "best_features = sorted_features[:n] # Allow to keep only the n best features"
   ]
  },
  {
   "cell_type": "code",
   "execution_count": 97,
   "metadata": {},
   "outputs": [
    {
     "name": "stdout",
     "output_type": "stream",
     "text": [
      "              precision    recall  f1-score   support\n",
      "\n",
      "           0       1.00      1.00      1.00        21\n",
      "           1       0.94      1.00      0.97        16\n",
      "           2       1.00      0.92      0.96        13\n",
      "\n",
      "    accuracy                           0.98        50\n",
      "   macro avg       0.98      0.97      0.98        50\n",
      "weighted avg       0.98      0.98      0.98        50\n",
      "\n",
      "Selected features scores : 0.98\n"
     ]
    },
    {
     "data": {
      "image/png": "[encoded data removed]",
      "text/plain": [
       "<Figure size 432x288 with 2 Axes>"
      ]
     },
     "metadata": {
      "needs_background": "light"
     },
     "output_type": "display_data"
    }
   ],
   "source": [
    "X_reduced = X[:,best_features]\n",
    "\n",
    "X_train_selected_features, X_test_selected_features, y_train, y_test = train_test_split(X_reduced, y, test_size=0.33)\n",
    "\n",
    "clf_selected_features = ExtraTreesClassifier(n_jobs=2, n_estimators=10)\n",
    "clf_selected_features.fit(X_train_selected_features, y_train)\n",
    "\n",
    "y_pred_selected_features = clf_selected_features.predict(X_test_selected_features)\n",
    "cm = confusion_matrix(y_test, y_pred_selected_features)\n",
    "n_classes = len(np.unique(y))\n",
    "plot_confusion_matrix(cm, classes=range(n_classes), title=\"Confusion Matrix\")\n",
    "\n",
    "print(classification_report(y_test, y_pred_selected_features))\n",
    "\n",
    "selected_features_score = clf_selected_features.score(X_test_selected_features, y_test) \n",
    "print(f\"Selected features scores : {selected_features_score}\")"
   ]
  },
  {
   "cell_type": "markdown",
   "metadata": {},
   "source": [
    "## Random features (Combinatorial search)\n",
    "Here only the average score is calculated"
   ]
  },
  {
   "cell_type": "code",
   "execution_count": 98,
   "metadata": {},
   "outputs": [],
   "source": [
    "K = 10\n",
    "mean_score = []\n",
    "\n",
    "for i in range(K):\n",
    "    random_features = sample(sorted_features, n) # Allow to select n random features each step\n",
    "    \n",
    "    X_random = X[:,random_features]\n",
    "    X_train_random, X_test_random, y_train, y_test = train_test_split(X_random, y, test_size=0.33)\n",
    "\n",
    "    clf_random = ExtraTreesClassifier(n_jobs=2, n_estimators=10)\n",
    "    clf_random.fit(X_train_random, y_train)    \n",
    "    \n",
    "    score = clf_random.score(X_test_random, y_test)\n",
    "    mean_score.append(score)"
   ]
  },
  {
   "cell_type": "code",
   "execution_count": 99,
   "metadata": {},
   "outputs": [
    {
     "name": "stdout",
     "output_type": "stream",
     "text": [
      "Mean score : 0.726\n"
     ]
    }
   ],
   "source": [
    "print(f\"Mean score : {sum(mean_score)/ len(mean_score)}\")"
   ]
  },
  {
   "cell_type": "markdown",
   "metadata": {},
   "source": [
    "## Worst Features"
   ]
  },
  {
   "cell_type": "code",
   "execution_count": 102,
   "metadata": {},
   "outputs": [],
   "source": [
    "worst_features = sorted_features[-n:]\n",
    "X_worst = X[:, worst_features]"
   ]
  },
  {
   "cell_type": "code",
   "execution_count": 103,
   "metadata": {},
   "outputs": [
    {
     "name": "stdout",
     "output_type": "stream",
     "text": [
      "              precision    recall  f1-score   support\n",
      "\n",
      "           0       0.29      0.38      0.32        16\n",
      "           1       0.24      0.21      0.22        19\n",
      "           2       0.25      0.20      0.22        15\n",
      "\n",
      "    accuracy                           0.26        50\n",
      "   macro avg       0.26      0.26      0.26        50\n",
      "weighted avg       0.26      0.26      0.25        50\n",
      "\n"
     ]
    },
    {
     "data": {
      "image/png": "[encoded data removed]",
      "text/plain": [
       "<Figure size 432x288 with 2 Axes>"
      ]
     },
     "metadata": {
      "needs_background": "light"
     },
     "output_type": "display_data"
    }
   ],
   "source": [
    "X_train_worst, X_test_worst, y_train, y_test = train_test_split(X_worst, y, test_size=0.33)\n",
    "\n",
    "clf_selected_features = ExtraTreesClassifier(n_jobs=2, n_estimators=10)\n",
    "clf_selected_features.fit(X_train_worst, y_train)\n",
    "\n",
    "y_pred_worst = clf_selected_features.predict(X_test_worst)\n",
    "cm = confusion_matrix(y_test, y_pred_worst)\n",
    "n_classes = len(np.unique(y))\n",
    "plot_confusion_matrix(cm, classes=range(n_classes), title=\"Confusion Matrix\")\n",
    "\n",
    "print(classification_report(y_test, y_pred_selected_features))"
   ]
  },
  {
   "cell_type": "markdown",
   "metadata": {},
   "source": [
    "### Going further (optional) -\n",
    "\n",
    "Now that you finished this notebook, it can be interesting to go one step further and try following scenarios:\n",
    "\n",
    "* Can we achieve better results (i.e. more relevant features and/or less features) if we normalize the data set?\n",
    "* Can we retrieve the same relevant features by applying another feature selection model?\n",
    "* Plot the classifier performance for the best K features where K is $1, 2,..,k_{-1},k$ and comment the results.\n",
    "* ...\n",
    "\n",
    "Please answer to the above questions below in this notebook."
   ]
  },
  {
   "cell_type": "markdown",
   "metadata": {},
   "source": [
    "### Dataset Normalisation\n",
    "The data are normalized with a MinMaxRescaler"
   ]
  },
  {
   "cell_type": "code",
   "execution_count": 131,
   "metadata": {},
   "outputs": [],
   "source": [
    "from sklearn.preprocessing import MinMaxScaler"
   ]
  },
  {
   "cell_type": "code",
   "execution_count": 132,
   "metadata": {},
   "outputs": [
    {
     "name": "stdout",
     "output_type": "stream",
     "text": [
      "              precision    recall  f1-score   support\n",
      "\n",
      "           0       1.00      1.00      1.00        11\n",
      "           1       0.94      0.84      0.89        19\n",
      "           2       0.86      0.95      0.90        20\n",
      "\n",
      "    accuracy                           0.92        50\n",
      "   macro avg       0.93      0.93      0.93        50\n",
      "weighted avg       0.92      0.92      0.92        50\n",
      "\n"
     ]
    },
    {
     "data": {
      "image/png": "[encoded data removed]",
      "text/plain": [
       "<Figure size 432x288 with 2 Axes>"
      ]
     },
     "metadata": {
      "needs_background": "light"
     },
     "output_type": "display_data"
    }
   ],
   "source": [
    "X_train, X_test, y_train, y_test = train_test_split(X, y, test_size=0.33)\n",
    "\n",
    "min_max_scaler = MinMaxScaler()\n",
    "X_train_norm = min_max_scaler.fit_transform(X_train) # Normalize train data with min max rescaler\n",
    "\n",
    "clf_norm = ExtraTreesClassifier(n_jobs=2, n_estimators=10)\n",
    "clf_norm.fit(X_train_norm, y_train)\n",
    "\n",
    "X_test_norm = min_max_scaler.transform(X_test) # Normalize test data with min max rescaler\n",
    "\n",
    "y_pred = clf_norm.predict(X_test_norm)\n",
    "cm = confusion_matrix(y_test, y_pred)\n",
    "n_classes = len(np.unique(y))\n",
    "plot_confusion_matrix(cm, classes=range(n_classes), title=\"Confusion Matrix\")\n",
    "\n",
    "print(classification_report(y_test, y_pred))"
   ]
  },
  {
   "cell_type": "raw",
   "metadata": {},
   "source": [
    "There is no improvement in the score compared to the version. As before, the scores can change from one model training to another."
   ]
  },
  {
   "cell_type": "code",
   "execution_count": 133,
   "metadata": {},
   "outputs": [],
   "source": [
    "# rank the features\n",
    "importances_norm = clf_norm.feature_importances_\n",
    "\n",
    "indices = np.argsort(importances_norm)[::-1]\n",
    "\n",
    "n_features = X_train.shape[1]\n",
    "\n",
    "# get the features sorted by decreasing importance\n",
    "feat_importances_sorted = [(indices[f], importances_norm[indices[f]]) for f in range(n_features)]"
   ]
  },
  {
   "cell_type": "code",
   "execution_count": 137,
   "metadata": {},
   "outputs": [
    {
     "data": {
      "image/png": "[encoded data removed]",
      "text/plain": [
       "<Figure size 1008x432 with 1 Axes>"
      ]
     },
     "metadata": {
      "needs_background": "light"
     },
     "output_type": "display_data"
    }
   ],
   "source": [
    "plot_importance_bar_chart(feat_importances_sorted, 'Score per feature (with normalized features)')"
   ]
  },
  {
   "cell_type": "raw",
   "metadata": {},
   "source": [
    "We can see that the same 3 features as before are the most important. The feature number 1 seems however to have moved up in the ranking of the most important features."
   ]
  },
  {
   "cell_type": "markdown",
   "metadata": {},
   "source": [
    "### Performance for the best K features"
   ]
  },
  {
   "cell_type": "code",
   "execution_count": 162,
   "metadata": {},
   "outputs": [],
   "source": [
    "best_k_features = []\n",
    "for k in range(n_features):\n",
    "    \n",
    "    tmp_features = sorted_features[:k+1]\n",
    "    X_tmp = X[:,tmp_features]\n",
    "\n",
    "    X_train, X_test, y_train, y_test = train_test_split(X_tmp, y, test_size=0.33)\n",
    "\n",
    "    clf_best_k = ExtraTreesClassifier(n_jobs=2, n_estimators=10)\n",
    "    clf_best_k.fit(X_train, y_train)    \n",
    "    \n",
    "    score = clf_best_k.score(X_test, y_test)\n",
    "    best_k_features.append((k+1, score))"
   ]
  },
  {
   "cell_type": "code",
   "execution_count": 165,
   "metadata": {},
   "outputs": [
    {
     "data": {
      "text/plain": [
       "Text(0.5, 1.0, 'Performance for the best K features')"
      ]
     },
     "execution_count": 165,
     "metadata": {},
     "output_type": "execute_result"
    },
    {
     "data": {
      "image/png": "[encoded data removed]",
      "text/plain": [
       "<Figure size 1008x432 with 1 Axes>"
      ]
     },
     "metadata": {
      "needs_background": "light"
     },
     "output_type": "display_data"
    }
   ],
   "source": [
    "# Allows to create a list with the first elements of each tuple (k value) and a second one with the second elements of each tuple (score  at k).\n",
    "ax_k, scores_at_k = zip(*best_k_features)\n",
    "fig, ax = plt.subplots(figsize=(14,6))\n",
    "\n",
    "# Transform feature name as string (for plot)\n",
    "ax_k = [str(i) for i in ax_k] \n",
    "\n",
    "ax.plot(ax_k, scores_at_k)\n",
    "ax.set_xlabel('Features')\n",
    "ax.set_ylabel('K')\n",
    "ax.set_title('Performance for the best K features', fontsize=22)"
   ]
  },
  {
   "cell_type": "code",
   "execution_count": null,
   "metadata": {},
   "outputs": [],
   "source": []
  }
 ],
 "metadata": {
  "kernelspec": {
   "display_name": "Python 3",
   "language": "python",
   "name": "python3"
  },
  "language_info": {
   "codemirror_mode": {
    "name": "ipython",
    "version": 3
   },
   "file_extension": ".py",
   "mimetype": "text/x-python",
   "name": "python",
   "nbconvert_exporter": "python",
   "pygments_lexer": "ipython3",
   "version": "3.8.5"
  }
 },
 "nbformat": 4,
 "nbformat_minor": 2
}
