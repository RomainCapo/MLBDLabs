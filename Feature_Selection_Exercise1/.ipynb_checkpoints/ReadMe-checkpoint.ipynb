{
 "cells": [
  {
   "cell_type": "markdown",
   "metadata": {},
   "source": [
    "# MLBD - \n",
    "\n",
    "## Lab - Feature Selection -\n",
    "\n",
    "- #### _Version 1. July 2017, Gary Marigliano_\n",
    "\n",
    "- #### _Version 2. March 2019, Diogo Leite_\n",
    "\n",
    "- #### _Version 3. March 2020, Shabnam Ataee_"
   ]
  },
  {
   "cell_type": "markdown",
   "metadata": {},
   "source": [
    "### Description of Lab -\n",
    "\n",
    "\n",
    "This lab composed of three exercises. These exercises will be uploaded to the website during the semester. Please compelete each exercise within the deadline and submit them via the website. The deadline of each  exercise  will be announced on the website.\n",
    "\n",
    "During these exercises, you will work in groups composed of 2 or 3 students."
   ]
  },
  {
   "cell_type": "markdown",
   "metadata": {},
   "source": [
    "### Assistant - Shabnam Ataee\n",
    "\n",
    "During exercise sessions, the assistant is available via _Microsoft Teams_ and you can ask your questions via _MS Teams_. Exercise sessions are scheduled for Tuesdays. \n",
    "\n",
    "You can also ask your questions via email. The contact information is as follows:\n",
    "\n",
    "- _E-mail: shabnam.ataee@heig-vd.ch_\n"
   ]
  },
  {
   "cell_type": "markdown",
   "metadata": {},
   "source": [
    "### References -\n",
    "\n",
    "* Relevance Metrics to Reduce Input Dimensions in Artificial Neural Network, by Héctor F. Satizábal M. and Andres Pérez-Uribe\n",
    "* Datasets: https://archive.ics.uci.edu/ml/index.php\n",
    "* sklearn: http://featureselection.asu.edu/"
   ]
  },
  {
   "cell_type": "markdown",
   "metadata": {},
   "source": [
    "### Getting started -\n",
    "\n",
    "First, we create a Python virtual environment for exercises in this lab. The virtual environment allows us to isolate the installation of the Python libraries for exercises in this specific lab and not to interfer with other ones which are installed for other projects or labs. \n",
    "\n",
    "Then, we activate the created environment and install the requirements for this lab in this environment. This ensures that all the studetns working on this lab have the same versions installed. \n",
    "\n",
    "Hint. This procedure has been tested on Ubuntu 16.04 (and 18.04) 64 bits. You may adapt certain commands for your system.\n",
    "\n",
    "\n",
    "### Create an environement with miniconda -\n",
    "\n",
    "For this part of the course, we continue to use miniconda environment. So, for this lab you need to create a miniconda environment with python 3.6 and import the libraries in _requirement_ file.\n",
    "\n",
    "```bash\n",
    "conda create --name xxx python=3.6\n",
    "conda activate xxx\n",
    "pip install -r requirements.txt\n",
    "```\n",
    "\n",
    "### Exercise submission - \n",
    "\n",
    "- There is a _deadline_ for each exercise of this lab. The deadline of each  exercise  will be announced on the website.\n",
    "- Each group needs to submit its exercise to the website before the deadline.  \n",
    "- If your exercise requires additional dependencies, please explain it in the corresponding notebook with the instructions on how to install them. Don't forget to add the additional dependencies at the end of your _requirements.txt_ file."
   ]
  },
  {
   "cell_type": "markdown",
   "metadata": {},
   "source": [
    "_Good luck!_"
   ]
  },
  {
   "cell_type": "code",
   "execution_count": null,
   "metadata": {
    "collapsed": true
   },
   "outputs": [],
   "source": []
  }
 ],
 "metadata": {
  "kernelspec": {
   "display_name": "Python 3",
   "language": "python",
   "name": "python3"
  },
  "language_info": {
   "codemirror_mode": {
    "name": "ipython",
    "version": 3
   },
   "file_extension": ".py",
   "mimetype": "text/x-python",
   "name": "python",
   "nbconvert_exporter": "python",
   "pygments_lexer": "ipython3",
   "version": "3.6.13"
  }
 },
 "nbformat": 4,
 "nbformat_minor": 2
}
